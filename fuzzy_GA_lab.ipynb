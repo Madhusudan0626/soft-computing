{
  "nbformat": 4,
  "nbformat_minor": 0,
  "metadata": {
    "colab": {
      "provenance": [],
      "authorship_tag": "ABX9TyNZGHyCZ/hnHZAGIQiMDSlg",
      "include_colab_link": true
    },
    "kernelspec": {
      "name": "python3",
      "display_name": "Python 3"
    },
    "language_info": {
      "name": "python"
    }
  },
  "cells": [
    {
      "cell_type": "markdown",
      "metadata": {
        "id": "view-in-github",
        "colab_type": "text"
      },
      "source": [
        "<a href=\"https://colab.research.google.com/github/Madhusudan0626/soft-computing/blob/main/fuzzy_GA_lab.ipynb\" target=\"_parent\"><img src=\"https://colab.research.google.com/assets/colab-badge.svg\" alt=\"Open In Colab\"/></a>"
      ]
    },
    {
      "cell_type": "code",
      "execution_count": null,
      "metadata": {
        "id": "6A3p1eZrK1SQ"
      },
      "outputs": [],
      "source": [
        "from matplotlib import pyplot as plt\n",
        "import numpy as np\n",
        "from scipy.stats import norm\n",
        "import math\n",
        "import random\n",
        "import skfuzzy.membership\n",
        "import pandas as pd\n",
        "import warnings\n",
        "warnings.filterwarnings('ignore')"
      ]
    },
    {
      "cell_type": "code",
      "source": [
        "A=[(1,0.8),(2,0.7),(3,0.1),(4,1.0),(5,0.9),(6,0.3)]\n",
        "B=[(1,0.3),(2,0.4),(3,0.4),(4,1),(5,0),(6,0)]"
      ],
      "metadata": {
        "id": "x0_A_tnRL6jS"
      },
      "execution_count": null,
      "outputs": []
    },
    {
      "cell_type": "code",
      "source": [
        "def algSum(A,B):\n",
        "    sum=[]\n",
        "    \n",
        "    for i in A:\n",
        "        for j in B:\n",
        "            if i[0]==j[0]:\n",
        "                sum.append((i[0],(i[1]+j[1]-i[1]*j[1])))\n",
        "    return sum\n",
        "\n",
        "                         \n",
        "def cart(A,B):\n",
        "    c=[]\n",
        "    \n",
        "    for i in A:\n",
        "        for j in B:\n",
        "            c.append(((i[0],j[0]), min(i[1],j[1])))\n",
        "    return c\n",
        "  \n",
        "    \n",
        "def union(A,B):\n",
        "    union=[]\n",
        "\n",
        "    for i in A:\n",
        "        for j in B:\n",
        "            if i[0] == j[0]:\n",
        "                union.append((i[0],max(i[1],j[1])))\n",
        "\n",
        "    return union\n",
        "     \n",
        "def intersect(A,B):\n",
        "    intersection=[]\n",
        "    for i in A:\n",
        "        for j in B:\n",
        "            if i[0] == j[0]:\n",
        "                intersection.append((i[0],min(i[1],j[1])))\n",
        "    return intersection\n",
        "      \n",
        "    \n",
        "def complement(A):\n",
        "    A_=[]\n",
        "    for i in A:\n",
        "        A_.append((i[0],1-i[1]))\n",
        "    return A_\n",
        "\n",
        "def diff(A,B):\n",
        "    d=[]\n",
        "    B_=complement(B)\n",
        "    for i in A:\n",
        "        for j in B_:\n",
        "            if i[0]==j[0]:\n",
        "                d.append((i[0],min(i[1],j[1])))\n",
        "    return d  "
      ],
      "metadata": {
        "id": "PJrIL8SKMbbr"
      },
      "execution_count": null,
      "outputs": []
    },
    {
      "cell_type": "code",
      "source": [
        "print(\"Set A : \", A,\"\\n\")\n",
        "print(\"Set B : \", B,\"\\n\")\n",
        "\n",
        "asum=algSum(A,B)\n",
        "print(\"Algebraic sum: \",asum,\"\\n\")\n",
        "\n",
        "dif=diff(A,B)\n",
        "print(\"Algebraic difference: \",dif,\"\\n\")\n",
        "\n",
        "c=cart(A,B)\n",
        "print(\"Cartesian product: \",c,\"\\n\")\n",
        "\n",
        "u=union(A,B)\n",
        "print(\"Union: \",u,\"\\n\")\n",
        "\n",
        "inter=intersect(A,B)\n",
        "print(\"Intersection: \", inter,\"\\n\")\n",
        "\n",
        "com=complement(A)\n",
        "print(\"Complement of A: \",com,\"\\n\")\n",
        "\n",
        "com=complement(B)\n",
        "print(\"Complement of B: \",com,'\\n')\n",
        "\n",
        "print(\"complement(A) union complement(B): \", union(complement(A),complement(B)),\"\\n\")\n",
        "print(\"complement(A) intersection complement(B): \", intersect(complement(A),complement(B)))"
      ],
      "metadata": {
        "id": "wvOEd361M8b9"
      },
      "execution_count": null,
      "outputs": []
    },
    {
      "cell_type": "code",
      "source": [
        "def test(A,B):\n",
        "    sum=[]\n",
        "    \n",
        "    for i in A:\n",
        "        for j in B:\n",
        "            if i[0]==j[0]:\n",
        "                sum.append((i[0]+j[0],min(i[1],j[1])))\n",
        "            if i[0]+j[0]==i[0]:\n",
        "              sum.append((i[0],min(i[1],j[1])))\n",
        "            else:\n",
        "              sum.append((j[0],min(i[1],j[1])))\n",
        "    \n",
        "    return sum\n",
        "A=[(0,0.2),(1,1.0),(2,0.2)]\n",
        "print(test(A,A))\n"
      ],
      "metadata": {
        "id": "KkIcB_zAQUSm",
        "colab": {
          "base_uri": "https://localhost:8080/"
        },
        "outputId": "8734d5be-3a06-4ec3-fc53-fe4c8fafa694"
      },
      "execution_count": null,
      "outputs": [
        {
          "output_type": "stream",
          "name": "stdout",
          "text": [
            "[(0, 0.2), (0, 0.2), (1, 0.2), (2, 0.2), (1, 0.2), (2, 1.0), (1, 1.0), (2, 0.2), (2, 0.2), (1, 0.2), (4, 0.2), (2, 0.2)]\n"
          ]
        }
      ]
    },
    {
      "cell_type": "code",
      "source": [
        "a=float(input(\"Enter a: \"))\n",
        "b=float(input(\"Enter b: \"))\n",
        "m=(a+b)/2\n",
        "X=(a,m,b)\n",
        "Y=(0,1,0)\n",
        "plt.plot(X,Y)\n",
        "plt.show()"
      ],
      "metadata": {
        "colab": {
          "base_uri": "https://localhost:8080/",
          "height": 465
        },
        "id": "fyxTlt_b1t9p",
        "outputId": "6fa551c6-d00c-4e10-ecff-86cad52e3e97"
      },
      "execution_count": null,
      "outputs": [
        {
          "name": "stdout",
          "output_type": "stream",
          "text": [
            "Enter a: 2\n",
            "Enter b: 6\n"
          ]
        },
        {
          "output_type": "display_data",
          "data": {
            "text/plain": [
              "<Figure size 640x480 with 1 Axes>"
            ],
            "image/png": "[encoded data removed]"
          },
          "metadata": {}
        }
      ]
    },
    {
      "cell_type": "code",
      "source": [
        "#Triangular MF\n",
        "x=float(input(\"Enter the element: \"))\n",
        "if x<=a or x>=m:\n",
        "    mem = 0\n",
        "mem1 = (x-a)/(m-a)\n",
        "mem2= (b-x)/(b-m)\n",
        "mem=max(min(mem1,mem2),0)\n",
        "    \n",
        "print(\"Membership : \",mem) "
      ],
      "metadata": {
        "colab": {
          "base_uri": "https://localhost:8080/"
        },
        "id": "Cd4Lf1O42uMy",
        "outputId": "02932934-1c23-41cb-82cb-1731e6e1113a"
      },
      "execution_count": null,
      "outputs": [
        {
          "output_type": "stream",
          "name": "stdout",
          "text": [
            "Enter the element: 7\n",
            "Membership :  0\n"
          ]
        }
      ]
    },
    {
      "cell_type": "code",
      "source": [
        "print(\"Enter a: \")\n",
        "a=input()\n",
        "a=float(a)\n",
        "print(\"Enter b: \")\n",
        "b=input()\n",
        "b=float(b)\n",
        "print(\"Enter c: \")\n",
        "c=input()\n",
        "c=float(c)\n",
        "print(\"Enter d: \")\n",
        "d=input()\n",
        "d=float(d)\n",
        "X=(a,b,c,d)\n",
        "Y=(0,1,1,0)\n",
        "plt.plot(X,Y)\n",
        "plt.show()"
      ],
      "metadata": {
        "colab": {
          "base_uri": "https://localhost:8080/",
          "height": 569
        },
        "id": "BhM1jAGf4yDU",
        "outputId": "ad7c25c8-989d-446d-e2dd-fa788eae54dc"
      },
      "execution_count": null,
      "outputs": [
        {
          "name": "stdout",
          "output_type": "stream",
          "text": [
            "Enter a: \n",
            "1\n",
            "Enter b: \n",
            "5\n",
            "Enter c: \n",
            "6\n",
            "Enter d: \n",
            "7\n"
          ]
        },
        {
          "output_type": "display_data",
          "data": {
            "text/plain": [
              "<Figure size 640x480 with 1 Axes>"
            ],
            "image/png": "[encoded data removed]"
          },
          "metadata": {}
        }
      ]
    },
    {
      "cell_type": "code",
      "source": [
        "#Trapezodial MF\n",
        "x=float(input(\"Enter the element: \"))\n",
        "if x<=a or x>=d:\n",
        "    mem = 0\n",
        "elif x > b and x < c :\n",
        "    mem = 1\n",
        "else:\n",
        "  mem1 = (x-a)/(b-a)\n",
        "  mem2= (d-x)/(d-c)\n",
        "  mem=max(min(mem1,mem2),0)\n",
        "    \n",
        "print(\"Membership : \",mem) "
      ],
      "metadata": {
        "colab": {
          "base_uri": "https://localhost:8080/"
        },
        "id": "-PBaIuT25Fy6",
        "outputId": "28234310-8c22-49b1-ff82-12554681b331"
      },
      "execution_count": null,
      "outputs": [
        {
          "output_type": "stream",
          "name": "stdout",
          "text": [
            "Enter the element: 4\n",
            "Membership :  0.75\n"
          ]
        }
      ]
    },
    {
      "cell_type": "code",
      "source": [
        "#Gaussian Distribution\n",
        "c=float(input(\"Enter the mean: \"))\n",
        "var=float(input(\"Enter the variance: \"))\n",
        "sig=np.sqrt(var)\n",
        "x_axis = np.arange(-10, 10, 0.001)\n",
        "plt.plot(x_axis, norm.pdf(x_axis,c,sig))\n",
        "plt.show()"
      ],
      "metadata": {
        "colab": {
          "base_uri": "https://localhost:8080/",
          "height": 465
        },
        "id": "9aPsgGxghT6R",
        "outputId": "bee29614-171d-4ab1-d70d-e30d6be15be4"
      },
      "execution_count": null,
      "outputs": [
        {
          "name": "stdout",
          "output_type": "stream",
          "text": [
            "Enter the mean: 0\n",
            "Enter the variance: 2\n"
          ]
        },
        {
          "output_type": "display_data",
          "data": {
            "text/plain": [
              "<Figure size 640x480 with 1 Axes>"
            ],
            "image/png": "[encoded data removed]"
          },
          "metadata": {}
        }
      ]
    },
    {
      "cell_type": "code",
      "source": [
        "x=float(input(\"Enter the element: \"))\n",
        "\n",
        "mem = np.exp((-1*(x-c)**2)/(2*var))\n",
        "    \n",
        "print(\"membership: \",mem) "
      ],
      "metadata": {
        "id": "AHSnBYGKjpi9",
        "outputId": "5d4d70f6-6b43-4116-f9af-5254b4bf08cf",
        "colab": {
          "base_uri": "https://localhost:8080/"
        }
      },
      "execution_count": null,
      "outputs": [
        {
          "output_type": "stream",
          "name": "stdout",
          "text": [
            "Enter the element: 2.4\n",
            "membership:  0.23692775868212176\n"
          ]
        }
      ]
    },
    {
      "cell_type": "code",
      "source": [
        "import random\n",
        "\n",
        "W = 5\n",
        "weights = [3, 2, 4, 1]\n",
        "values = [100, 20, 60, 40]\n",
        "\n",
        "items = [(weight, value) for weight, value in zip(weights, values)]\n",
        "\n",
        "\n",
        "def evaluate_fitness(individual):\n",
        "    total_weight = sum(individual[i] * items[i][0] for i in range(len(individual)))\n",
        "    total_value = sum(individual[i] * items[i][1] for i in range(len(individual)))\n",
        "    if total_weight > W:\n",
        "        return 0\n",
        "    else:\n",
        "        return total_value\n",
        "\n",
        "\n",
        "def initialize_population(population_size):\n",
        "    population = []\n",
        "    for _ in range(population_size):\n",
        "        individual = [random.randint(0, 1) for _ in range(len(items))]\n",
        "        population.append(individual)\n",
        "    return population\n",
        "\n",
        "\n",
        "def selection(population):\n",
        "    selected = random.choices(population, k=2)\n",
        "    return selected[0], selected[1]\n",
        "\n",
        "\n",
        "def crossover(parent1, parent2):\n",
        "    crossover_point = random.randint(1, len(items) - 1)\n",
        "    child1 = parent1[:crossover_point] + parent2[crossover_point:]\n",
        "    child2 = parent2[:crossover_point] + parent1[crossover_point:]\n",
        "    return child1, child2\n",
        "\n",
        "\n",
        "def mutation(individual, mutation_rate):\n",
        "    for i in range(len(individual)):\n",
        "        if random.random() < mutation_rate:\n",
        "            individual[i] = 1 - individual[i]\n",
        "    return individual\n",
        "\n",
        "\n",
        "def genetic_algorithm(population_size, num_generations, mutation_rate):\n",
        "    population = initialize_population(population_size)\n",
        "\n",
        "    for _ in range(num_generations):\n",
        "        next_generation = []\n",
        "        for _ in range(population_size // 2):\n",
        "            parent1, parent2 = selection(population)\n",
        "            child1, child2 = crossover(parent1, parent2)\n",
        "            child1 = mutation(child1, mutation_rate)\n",
        "            child2 = mutation(child2, mutation_rate)\n",
        "            next_generation.extend([child1, child2])\n",
        "\n",
        "        population = next_generation\n",
        "\n",
        "    best_individual = max(population, key=evaluate_fitness)\n",
        "    best_fitness = evaluate_fitness(best_individual)\n",
        "    return best_individual, best_fitness\n",
        "\n",
        "\n",
        "# Example usage\n",
        "population_size = 50\n",
        "num_generations = 100\n",
        "mutation_rate = 0.1\n",
        "\n",
        "best_individual, best_fitness = genetic_algorithm(population_size, num_generations, mutation_rate)\n",
        "\n",
        "print(\"Best individual:\", best_individual)\n",
        "print(\"Best fitness:\", best_fitness)"
      ],
      "metadata": {
        "colab": {
          "base_uri": "https://localhost:8080/"
        },
        "id": "dFLCQapf91N8",
        "outputId": "c765573a-9dc5-42e4-f50b-318c17379c19"
      },
      "execution_count": null,
      "outputs": [
        {
          "output_type": "stream",
          "name": "stdout",
          "text": [
            "Best individual: [1, 0, 0, 1]\n",
            "Best fitness: 140\n"
          ]
        }
      ]
    },
    {
      "cell_type": "code",
      "source": [
        "import random\n",
        "import math\n",
        "\n",
        "def calculate_distance(city1, city2):\n",
        "    x1, y1 = city1\n",
        "    x2, y2 = city2\n",
        "    distance = math.sqrt((x2 - x1)**2 + (y2 - y1)**2)\n",
        "    return distance\n",
        "\n",
        "def tsp(n, cities):\n",
        "    # Generate a random permutation of cities\n",
        "    route = random.sample(range(n), n)\n",
        "    \n",
        "    # Calculate the total distance of the initial route\n",
        "    total_distance = 0\n",
        "    for i in range(n - 1):\n",
        "        city1 = cities[route[i]]\n",
        "        city2 = cities[route[i + 1]]\n",
        "        distance = calculate_distance(city1, city2)\n",
        "        total_distance += distance\n",
        "    \n",
        "    # Connect the last city with the first city\n",
        "    city1 = cities[route[n - 1]]\n",
        "    city2 = cities[route[0]]\n",
        "    distance = calculate_distance(city1, city2)\n",
        "    total_distance += distance\n",
        "    \n",
        "    return route, total_distance\n",
        "\n",
        "# Example usage\n",
        "cities = [(0, 0), (1, 5), (2, 3), (5, 2)]\n",
        "num_cities = len(cities)\n",
        "\n",
        "route, total_distance = tsp(num_cities, cities)\n",
        "\n",
        "print(\"Optimal Route:\", route)\n",
        "print(\"Total Distance:\", total_distance)\n"
      ],
      "metadata": {
        "colab": {
          "base_uri": "https://localhost:8080/"
        },
        "id": "C5YCPSNU-iRy",
        "outputId": "84852846-8738-498a-c9b7-74a092205d11"
      },
      "execution_count": null,
      "outputs": [
        {
          "output_type": "stream",
          "name": "stdout",
          "text": [
            "Optimal Route: [2, 0, 1, 3]\n",
            "Total Distance: 16.866848449225152\n"
          ]
        }
      ]
    },
    {
      "cell_type": "code",
      "source": [
        "import random\n",
        "\n",
        "def is_valid(board):\n",
        "    n = len(board)\n",
        "    for i in range(n):\n",
        "        for j in range(i + 1, n):\n",
        "            if board[i] == board[j] or abs(board[i] - board[j]) == j - i:\n",
        "                return False\n",
        "    return True\n",
        "\n",
        "def queens(n=8):\n",
        "    board = random.sample(range(n), n)\n",
        "    print(\"Generated random sequence of placing 8 queen: \",board)\n",
        "    while not is_valid(board):\n",
        "        random.shuffle(board)\n",
        "    return board\n",
        "\n",
        "# Example usage\n",
        "n = 8\n",
        "solution = queens(n)\n",
        "print(\"Solution:\", solution)"
      ],
      "metadata": {
        "colab": {
          "base_uri": "https://localhost:8080/"
        },
        "id": "TjS_snnBPFDz",
        "outputId": "2c1d8e1e-1163-4ef6-f3f4-ebf75a2b88e9"
      },
      "execution_count": null,
      "outputs": [
        {
          "output_type": "stream",
          "name": "stdout",
          "text": [
            "Generated random sequence of placing 8 queen:  [7, 0, 6, 5, 3, 4, 1, 2]\n",
            "Solution: [3, 5, 0, 4, 1, 7, 2, 6]\n"
          ]
        }
      ]
    },
    {
      "cell_type": "code",
      "source": [],
      "metadata": {
        "id": "8XedcopTVLGq"
      },
      "execution_count": null,
      "outputs": []
    }
  ]
}